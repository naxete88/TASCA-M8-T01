{
 "cells": [
  {
   "cell_type": "code",
   "execution_count": 299,
   "id": "676c340d",
   "metadata": {},
   "outputs": [],
   "source": [
    "import pandas as pd\n",
    "import matplotlib.pyplot as plt\n",
    "import numpy as np\n",
    "import scipy.cluster.hierarchy as sch\n",
    "import plotly.express as px\n",
    "from sklearn.cluster import KMeans, AgglomerativeClustering\n",
    "from sklearn.metrics import silhouette_score\n",
    "from sklearn.preprocessing import StandardScaler\n",
    "from sklearn.metrics import silhouette_score\n",
    "from sklearn.decomposition import PCA\n",
    "from sklearn.pipeline import Pipeline\n",
    "from kneed import KneeLocator"
   ]
  },
  {
   "cell_type": "code",
   "execution_count": 300,
   "id": "52b55a97",
   "metadata": {},
   "outputs": [
    {
     "data": {
      "text/html": [
       "<div>\n",
       "<style scoped>\n",
       "    .dataframe tbody tr th:only-of-type {\n",
       "        vertical-align: middle;\n",
       "    }\n",
       "\n",
       "    .dataframe tbody tr th {\n",
       "        vertical-align: top;\n",
       "    }\n",
       "\n",
       "    .dataframe thead th {\n",
       "        text-align: right;\n",
       "    }\n",
       "</style>\n",
       "<table border=\"1\" class=\"dataframe\">\n",
       "  <thead>\n",
       "    <tr style=\"text-align: right;\">\n",
       "      <th></th>\n",
       "      <th>status_id</th>\n",
       "      <th>status_type</th>\n",
       "      <th>status_published</th>\n",
       "      <th>num_reactions</th>\n",
       "      <th>num_comments</th>\n",
       "      <th>num_shares</th>\n",
       "      <th>num_likes</th>\n",
       "      <th>num_loves</th>\n",
       "      <th>num_wows</th>\n",
       "      <th>num_hahas</th>\n",
       "      <th>num_sads</th>\n",
       "      <th>num_angrys</th>\n",
       "      <th>Column1</th>\n",
       "      <th>Column2</th>\n",
       "      <th>Column3</th>\n",
       "      <th>Column4</th>\n",
       "    </tr>\n",
       "  </thead>\n",
       "  <tbody>\n",
       "    <tr>\n",
       "      <th>0</th>\n",
       "      <td>246675545449582_1649696485147474</td>\n",
       "      <td>video</td>\n",
       "      <td>4/22/2018 6:00</td>\n",
       "      <td>529</td>\n",
       "      <td>512</td>\n",
       "      <td>262</td>\n",
       "      <td>432</td>\n",
       "      <td>92</td>\n",
       "      <td>3</td>\n",
       "      <td>1</td>\n",
       "      <td>1</td>\n",
       "      <td>0</td>\n",
       "      <td>NaN</td>\n",
       "      <td>NaN</td>\n",
       "      <td>NaN</td>\n",
       "      <td>NaN</td>\n",
       "    </tr>\n",
       "    <tr>\n",
       "      <th>1</th>\n",
       "      <td>246675545449582_1649426988507757</td>\n",
       "      <td>photo</td>\n",
       "      <td>4/21/2018 22:45</td>\n",
       "      <td>150</td>\n",
       "      <td>0</td>\n",
       "      <td>0</td>\n",
       "      <td>150</td>\n",
       "      <td>0</td>\n",
       "      <td>0</td>\n",
       "      <td>0</td>\n",
       "      <td>0</td>\n",
       "      <td>0</td>\n",
       "      <td>NaN</td>\n",
       "      <td>NaN</td>\n",
       "      <td>NaN</td>\n",
       "      <td>NaN</td>\n",
       "    </tr>\n",
       "    <tr>\n",
       "      <th>2</th>\n",
       "      <td>246675545449582_1648730588577397</td>\n",
       "      <td>video</td>\n",
       "      <td>4/21/2018 6:17</td>\n",
       "      <td>227</td>\n",
       "      <td>236</td>\n",
       "      <td>57</td>\n",
       "      <td>204</td>\n",
       "      <td>21</td>\n",
       "      <td>1</td>\n",
       "      <td>1</td>\n",
       "      <td>0</td>\n",
       "      <td>0</td>\n",
       "      <td>NaN</td>\n",
       "      <td>NaN</td>\n",
       "      <td>NaN</td>\n",
       "      <td>NaN</td>\n",
       "    </tr>\n",
       "    <tr>\n",
       "      <th>3</th>\n",
       "      <td>246675545449582_1648576705259452</td>\n",
       "      <td>photo</td>\n",
       "      <td>4/21/2018 2:29</td>\n",
       "      <td>111</td>\n",
       "      <td>0</td>\n",
       "      <td>0</td>\n",
       "      <td>111</td>\n",
       "      <td>0</td>\n",
       "      <td>0</td>\n",
       "      <td>0</td>\n",
       "      <td>0</td>\n",
       "      <td>0</td>\n",
       "      <td>NaN</td>\n",
       "      <td>NaN</td>\n",
       "      <td>NaN</td>\n",
       "      <td>NaN</td>\n",
       "    </tr>\n",
       "    <tr>\n",
       "      <th>4</th>\n",
       "      <td>246675545449582_1645700502213739</td>\n",
       "      <td>photo</td>\n",
       "      <td>4/18/2018 3:22</td>\n",
       "      <td>213</td>\n",
       "      <td>0</td>\n",
       "      <td>0</td>\n",
       "      <td>204</td>\n",
       "      <td>9</td>\n",
       "      <td>0</td>\n",
       "      <td>0</td>\n",
       "      <td>0</td>\n",
       "      <td>0</td>\n",
       "      <td>NaN</td>\n",
       "      <td>NaN</td>\n",
       "      <td>NaN</td>\n",
       "      <td>NaN</td>\n",
       "    </tr>\n",
       "  </tbody>\n",
       "</table>\n",
       "</div>"
      ],
      "text/plain": [
       "                          status_id status_type status_published  \\\n",
       "0  246675545449582_1649696485147474       video   4/22/2018 6:00   \n",
       "1  246675545449582_1649426988507757       photo  4/21/2018 22:45   \n",
       "2  246675545449582_1648730588577397       video   4/21/2018 6:17   \n",
       "3  246675545449582_1648576705259452       photo   4/21/2018 2:29   \n",
       "4  246675545449582_1645700502213739       photo   4/18/2018 3:22   \n",
       "\n",
       "   num_reactions  num_comments  num_shares  num_likes  num_loves  num_wows  \\\n",
       "0            529           512         262        432         92         3   \n",
       "1            150             0           0        150          0         0   \n",
       "2            227           236          57        204         21         1   \n",
       "3            111             0           0        111          0         0   \n",
       "4            213             0           0        204          9         0   \n",
       "\n",
       "   num_hahas  num_sads  num_angrys  Column1  Column2  Column3  Column4  \n",
       "0          1         1           0      NaN      NaN      NaN      NaN  \n",
       "1          0         0           0      NaN      NaN      NaN      NaN  \n",
       "2          1         0           0      NaN      NaN      NaN      NaN  \n",
       "3          0         0           0      NaN      NaN      NaN      NaN  \n",
       "4          0         0           0      NaN      NaN      NaN      NaN  "
      ]
     },
     "execution_count": 300,
     "metadata": {},
     "output_type": "execute_result"
    }
   ],
   "source": [
    "df = pd.read_csv(\"C:/publicacions_facebook_thailandia.csv\")\n",
    "df.head(5)"
   ]
  },
  {
   "cell_type": "code",
   "execution_count": 301,
   "id": "3ca0b697",
   "metadata": {},
   "outputs": [
    {
     "data": {
      "text/plain": [
       "(7050, 16)"
      ]
     },
     "execution_count": 301,
     "metadata": {},
     "output_type": "execute_result"
    }
   ],
   "source": [
    "df.shape"
   ]
  },
  {
   "cell_type": "code",
   "execution_count": 302,
   "id": "5c67bdd5",
   "metadata": {},
   "outputs": [
    {
     "name": "stdout",
     "output_type": "stream",
     "text": [
      "<class 'pandas.core.frame.DataFrame'>\n",
      "RangeIndex: 7050 entries, 0 to 7049\n",
      "Data columns (total 16 columns):\n",
      " #   Column            Non-Null Count  Dtype  \n",
      "---  ------            --------------  -----  \n",
      " 0   status_id         7050 non-null   object \n",
      " 1   status_type       7050 non-null   object \n",
      " 2   status_published  7050 non-null   object \n",
      " 3   num_reactions     7050 non-null   int64  \n",
      " 4   num_comments      7050 non-null   int64  \n",
      " 5   num_shares        7050 non-null   int64  \n",
      " 6   num_likes         7050 non-null   int64  \n",
      " 7   num_loves         7050 non-null   int64  \n",
      " 8   num_wows          7050 non-null   int64  \n",
      " 9   num_hahas         7050 non-null   int64  \n",
      " 10  num_sads          7050 non-null   int64  \n",
      " 11  num_angrys        7050 non-null   int64  \n",
      " 12  Column1           0 non-null      float64\n",
      " 13  Column2           0 non-null      float64\n",
      " 14  Column3           0 non-null      float64\n",
      " 15  Column4           0 non-null      float64\n",
      "dtypes: float64(4), int64(9), object(3)\n",
      "memory usage: 881.4+ KB\n"
     ]
    }
   ],
   "source": [
    "df.info()"
   ]
  },
  {
   "cell_type": "code",
   "execution_count": 303,
   "id": "982d350b",
   "metadata": {},
   "outputs": [
    {
     "name": "stdout",
     "output_type": "stream",
     "text": [
      "Hi ha elements duplicats\n"
     ]
    }
   ],
   "source": [
    "df_clean = df.drop_duplicates()\n",
    "if len(df_clean) == len(df):\n",
    "    print(\"No hi ha elements duplicats\")\n",
    "else:\n",
    "    print(\"Hi ha elements duplicats\")"
   ]
  },
  {
   "cell_type": "code",
   "execution_count": 304,
   "id": "5bd72308",
   "metadata": {},
   "outputs": [
    {
     "data": {
      "text/plain": [
       "(6999, 16)"
      ]
     },
     "execution_count": 304,
     "metadata": {},
     "output_type": "execute_result"
    }
   ],
   "source": [
    "# miro com s'ha reduit amb els elements duplicats\n",
    "df_clean.shape"
   ]
  },
  {
   "cell_type": "code",
   "execution_count": 305,
   "id": "746e4819",
   "metadata": {},
   "outputs": [
    {
     "data": {
      "text/html": [
       "<div>\n",
       "<style scoped>\n",
       "    .dataframe tbody tr th:only-of-type {\n",
       "        vertical-align: middle;\n",
       "    }\n",
       "\n",
       "    .dataframe tbody tr th {\n",
       "        vertical-align: top;\n",
       "    }\n",
       "\n",
       "    .dataframe thead th {\n",
       "        text-align: right;\n",
       "    }\n",
       "</style>\n",
       "<table border=\"1\" class=\"dataframe\">\n",
       "  <thead>\n",
       "    <tr style=\"text-align: right;\">\n",
       "      <th></th>\n",
       "      <th>status_type</th>\n",
       "      <th>num_reactions</th>\n",
       "      <th>num_comments</th>\n",
       "      <th>num_shares</th>\n",
       "      <th>num_likes</th>\n",
       "      <th>num_loves</th>\n",
       "      <th>num_wows</th>\n",
       "      <th>num_hahas</th>\n",
       "      <th>num_sads</th>\n",
       "      <th>num_angrys</th>\n",
       "    </tr>\n",
       "  </thead>\n",
       "  <tbody>\n",
       "    <tr>\n",
       "      <th>0</th>\n",
       "      <td>video</td>\n",
       "      <td>529</td>\n",
       "      <td>512</td>\n",
       "      <td>262</td>\n",
       "      <td>432</td>\n",
       "      <td>92</td>\n",
       "      <td>3</td>\n",
       "      <td>1</td>\n",
       "      <td>1</td>\n",
       "      <td>0</td>\n",
       "    </tr>\n",
       "    <tr>\n",
       "      <th>1</th>\n",
       "      <td>photo</td>\n",
       "      <td>150</td>\n",
       "      <td>0</td>\n",
       "      <td>0</td>\n",
       "      <td>150</td>\n",
       "      <td>0</td>\n",
       "      <td>0</td>\n",
       "      <td>0</td>\n",
       "      <td>0</td>\n",
       "      <td>0</td>\n",
       "    </tr>\n",
       "    <tr>\n",
       "      <th>2</th>\n",
       "      <td>video</td>\n",
       "      <td>227</td>\n",
       "      <td>236</td>\n",
       "      <td>57</td>\n",
       "      <td>204</td>\n",
       "      <td>21</td>\n",
       "      <td>1</td>\n",
       "      <td>1</td>\n",
       "      <td>0</td>\n",
       "      <td>0</td>\n",
       "    </tr>\n",
       "    <tr>\n",
       "      <th>3</th>\n",
       "      <td>photo</td>\n",
       "      <td>111</td>\n",
       "      <td>0</td>\n",
       "      <td>0</td>\n",
       "      <td>111</td>\n",
       "      <td>0</td>\n",
       "      <td>0</td>\n",
       "      <td>0</td>\n",
       "      <td>0</td>\n",
       "      <td>0</td>\n",
       "    </tr>\n",
       "    <tr>\n",
       "      <th>4</th>\n",
       "      <td>photo</td>\n",
       "      <td>213</td>\n",
       "      <td>0</td>\n",
       "      <td>0</td>\n",
       "      <td>204</td>\n",
       "      <td>9</td>\n",
       "      <td>0</td>\n",
       "      <td>0</td>\n",
       "      <td>0</td>\n",
       "      <td>0</td>\n",
       "    </tr>\n",
       "  </tbody>\n",
       "</table>\n",
       "</div>"
      ],
      "text/plain": [
       "  status_type  num_reactions  num_comments  num_shares  num_likes  num_loves  \\\n",
       "0       video            529           512         262        432         92   \n",
       "1       photo            150             0           0        150          0   \n",
       "2       video            227           236          57        204         21   \n",
       "3       photo            111             0           0        111          0   \n",
       "4       photo            213             0           0        204          9   \n",
       "\n",
       "   num_wows  num_hahas  num_sads  num_angrys  \n",
       "0         3          1         1           0  \n",
       "1         0          0         0           0  \n",
       "2         1          1         0           0  \n",
       "3         0          0         0           0  \n",
       "4         0          0         0           0  "
      ]
     },
     "execution_count": 305,
     "metadata": {},
     "output_type": "execute_result"
    }
   ],
   "source": [
    "# mirant la informació veiem que les columnes 1-4 tenen 0 valors que no són nuls, per tant ho podem eliminar\n",
    "# també elimino la data i el id perque no són importants per l'anàlisi.\n",
    "\n",
    "df1 = df_clean.drop(['Column1','Column2','Column3','Column4','status_id','status_published'], axis = 1)\n",
    "df1.head()"
   ]
  },
  {
   "cell_type": "code",
   "execution_count": 306,
   "id": "eadb6e30",
   "metadata": {},
   "outputs": [],
   "source": [
    "df_norm = df1.copy()"
   ]
  },
  {
   "cell_type": "code",
   "execution_count": 307,
   "id": "05305213",
   "metadata": {},
   "outputs": [],
   "source": [
    "# aplico l'escalat a les columnes no categòriques\n",
    "scaler = StandardScaler()\n",
    "df_norm[['num_reactions','num_comments','num_shares','num_likes','num_loves','num_wows','num_hahas','num_sads','num_angrys']] = scaler.fit_transform(df_norm[['num_reactions','num_comments','num_shares','num_likes','num_loves','num_wows','num_hahas','num_sads','num_angrys']])"
   ]
  },
  {
   "cell_type": "code",
   "execution_count": 308,
   "id": "ae5f8790",
   "metadata": {},
   "outputs": [
    {
     "data": {
      "text/html": [
       "<div>\n",
       "<style scoped>\n",
       "    .dataframe tbody tr th:only-of-type {\n",
       "        vertical-align: middle;\n",
       "    }\n",
       "\n",
       "    .dataframe tbody tr th {\n",
       "        vertical-align: top;\n",
       "    }\n",
       "\n",
       "    .dataframe thead th {\n",
       "        text-align: right;\n",
       "    }\n",
       "</style>\n",
       "<table border=\"1\" class=\"dataframe\">\n",
       "  <thead>\n",
       "    <tr style=\"text-align: right;\">\n",
       "      <th></th>\n",
       "      <th>status_type</th>\n",
       "      <th>num_reactions</th>\n",
       "      <th>num_comments</th>\n",
       "      <th>num_shares</th>\n",
       "      <th>num_likes</th>\n",
       "      <th>num_loves</th>\n",
       "      <th>num_wows</th>\n",
       "      <th>num_hahas</th>\n",
       "      <th>num_sads</th>\n",
       "      <th>num_angrys</th>\n",
       "    </tr>\n",
       "  </thead>\n",
       "  <tbody>\n",
       "    <tr>\n",
       "      <th>0</th>\n",
       "      <td>video</td>\n",
       "      <td>0.671318</td>\n",
       "      <td>0.320886</td>\n",
       "      <td>1.679382</td>\n",
       "      <td>0.505219</td>\n",
       "      <td>1.976073</td>\n",
       "      <td>0.200243</td>\n",
       "      <td>0.076069</td>\n",
       "      <td>0.518160</td>\n",
       "      <td>-0.15999</td>\n",
       "    </tr>\n",
       "    <tr>\n",
       "      <th>1</th>\n",
       "      <td>photo</td>\n",
       "      <td>-0.165606</td>\n",
       "      <td>-0.252669</td>\n",
       "      <td>-0.304903</td>\n",
       "      <td>-0.136392</td>\n",
       "      <td>-0.317962</td>\n",
       "      <td>-0.143599</td>\n",
       "      <td>-0.175780</td>\n",
       "      <td>-0.157059</td>\n",
       "      <td>-0.15999</td>\n",
       "    </tr>\n",
       "    <tr>\n",
       "      <th>2</th>\n",
       "      <td>video</td>\n",
       "      <td>0.004428</td>\n",
       "      <td>0.011704</td>\n",
       "      <td>0.126793</td>\n",
       "      <td>-0.013530</td>\n",
       "      <td>0.205677</td>\n",
       "      <td>-0.028985</td>\n",
       "      <td>0.076069</td>\n",
       "      <td>-0.157059</td>\n",
       "      <td>-0.15999</td>\n",
       "    </tr>\n",
       "    <tr>\n",
       "      <th>3</th>\n",
       "      <td>photo</td>\n",
       "      <td>-0.251728</td>\n",
       "      <td>-0.252669</td>\n",
       "      <td>-0.304903</td>\n",
       "      <td>-0.225125</td>\n",
       "      <td>-0.317962</td>\n",
       "      <td>-0.143599</td>\n",
       "      <td>-0.175780</td>\n",
       "      <td>-0.157059</td>\n",
       "      <td>-0.15999</td>\n",
       "    </tr>\n",
       "    <tr>\n",
       "      <th>4</th>\n",
       "      <td>photo</td>\n",
       "      <td>-0.026487</td>\n",
       "      <td>-0.252669</td>\n",
       "      <td>-0.304903</td>\n",
       "      <td>-0.013530</td>\n",
       "      <td>-0.093545</td>\n",
       "      <td>-0.143599</td>\n",
       "      <td>-0.175780</td>\n",
       "      <td>-0.157059</td>\n",
       "      <td>-0.15999</td>\n",
       "    </tr>\n",
       "  </tbody>\n",
       "</table>\n",
       "</div>"
      ],
      "text/plain": [
       "  status_type  num_reactions  num_comments  num_shares  num_likes  num_loves  \\\n",
       "0       video       0.671318      0.320886    1.679382   0.505219   1.976073   \n",
       "1       photo      -0.165606     -0.252669   -0.304903  -0.136392  -0.317962   \n",
       "2       video       0.004428      0.011704    0.126793  -0.013530   0.205677   \n",
       "3       photo      -0.251728     -0.252669   -0.304903  -0.225125  -0.317962   \n",
       "4       photo      -0.026487     -0.252669   -0.304903  -0.013530  -0.093545   \n",
       "\n",
       "   num_wows  num_hahas  num_sads  num_angrys  \n",
       "0  0.200243   0.076069  0.518160    -0.15999  \n",
       "1 -0.143599  -0.175780 -0.157059    -0.15999  \n",
       "2 -0.028985   0.076069 -0.157059    -0.15999  \n",
       "3 -0.143599  -0.175780 -0.157059    -0.15999  \n",
       "4 -0.143599  -0.175780 -0.157059    -0.15999  "
      ]
     },
     "execution_count": 308,
     "metadata": {},
     "output_type": "execute_result"
    }
   ],
   "source": [
    "df_norm.head()"
   ]
  },
  {
   "cell_type": "code",
   "execution_count": 309,
   "id": "11d73842",
   "metadata": {},
   "outputs": [
    {
     "data": {
      "text/html": [
       "<div>\n",
       "<style scoped>\n",
       "    .dataframe tbody tr th:only-of-type {\n",
       "        vertical-align: middle;\n",
       "    }\n",
       "\n",
       "    .dataframe tbody tr th {\n",
       "        vertical-align: top;\n",
       "    }\n",
       "\n",
       "    .dataframe thead th {\n",
       "        text-align: right;\n",
       "    }\n",
       "</style>\n",
       "<table border=\"1\" class=\"dataframe\">\n",
       "  <thead>\n",
       "    <tr style=\"text-align: right;\">\n",
       "      <th></th>\n",
       "      <th>status_type</th>\n",
       "      <th>num_reactions</th>\n",
       "      <th>num_comments</th>\n",
       "      <th>num_shares</th>\n",
       "      <th>num_likes</th>\n",
       "      <th>num_loves</th>\n",
       "      <th>num_wows</th>\n",
       "      <th>num_hahas</th>\n",
       "      <th>num_sads</th>\n",
       "      <th>num_angrys</th>\n",
       "    </tr>\n",
       "  </thead>\n",
       "  <tbody>\n",
       "    <tr>\n",
       "      <th>7045</th>\n",
       "      <td>photo</td>\n",
       "      <td>-0.300309</td>\n",
       "      <td>-0.252669</td>\n",
       "      <td>-0.304903</td>\n",
       "      <td>-0.275180</td>\n",
       "      <td>-0.317962</td>\n",
       "      <td>-0.143599</td>\n",
       "      <td>-0.175780</td>\n",
       "      <td>-0.157059</td>\n",
       "      <td>-0.15999</td>\n",
       "    </tr>\n",
       "    <tr>\n",
       "      <th>7046</th>\n",
       "      <td>photo</td>\n",
       "      <td>-0.461511</td>\n",
       "      <td>-0.252669</td>\n",
       "      <td>-0.304903</td>\n",
       "      <td>-0.445821</td>\n",
       "      <td>-0.293026</td>\n",
       "      <td>-0.143599</td>\n",
       "      <td>0.076069</td>\n",
       "      <td>-0.157059</td>\n",
       "      <td>-0.15999</td>\n",
       "    </tr>\n",
       "    <tr>\n",
       "      <th>7047</th>\n",
       "      <td>photo</td>\n",
       "      <td>-0.492427</td>\n",
       "      <td>-0.252669</td>\n",
       "      <td>-0.304903</td>\n",
       "      <td>-0.475399</td>\n",
       "      <td>-0.293026</td>\n",
       "      <td>-0.143599</td>\n",
       "      <td>-0.175780</td>\n",
       "      <td>-0.157059</td>\n",
       "      <td>-0.15999</td>\n",
       "    </tr>\n",
       "    <tr>\n",
       "      <th>7048</th>\n",
       "      <td>photo</td>\n",
       "      <td>0.278251</td>\n",
       "      <td>-0.239226</td>\n",
       "      <td>-0.138284</td>\n",
       "      <td>0.316376</td>\n",
       "      <td>-0.268091</td>\n",
       "      <td>-0.143599</td>\n",
       "      <td>-0.175780</td>\n",
       "      <td>-0.157059</td>\n",
       "      <td>-0.15999</td>\n",
       "    </tr>\n",
       "    <tr>\n",
       "      <th>7049</th>\n",
       "      <td>photo</td>\n",
       "      <td>-0.459303</td>\n",
       "      <td>-0.252669</td>\n",
       "      <td>-0.304903</td>\n",
       "      <td>-0.438995</td>\n",
       "      <td>-0.317962</td>\n",
       "      <td>-0.143599</td>\n",
       "      <td>-0.175780</td>\n",
       "      <td>-0.157059</td>\n",
       "      <td>-0.15999</td>\n",
       "    </tr>\n",
       "  </tbody>\n",
       "</table>\n",
       "</div>"
      ],
      "text/plain": [
       "     status_type  num_reactions  num_comments  num_shares  num_likes  \\\n",
       "7045       photo      -0.300309     -0.252669   -0.304903  -0.275180   \n",
       "7046       photo      -0.461511     -0.252669   -0.304903  -0.445821   \n",
       "7047       photo      -0.492427     -0.252669   -0.304903  -0.475399   \n",
       "7048       photo       0.278251     -0.239226   -0.138284   0.316376   \n",
       "7049       photo      -0.459303     -0.252669   -0.304903  -0.438995   \n",
       "\n",
       "      num_loves  num_wows  num_hahas  num_sads  num_angrys  \n",
       "7045  -0.317962 -0.143599  -0.175780 -0.157059    -0.15999  \n",
       "7046  -0.293026 -0.143599   0.076069 -0.157059    -0.15999  \n",
       "7047  -0.293026 -0.143599  -0.175780 -0.157059    -0.15999  \n",
       "7048  -0.268091 -0.143599  -0.175780 -0.157059    -0.15999  \n",
       "7049  -0.317962 -0.143599  -0.175780 -0.157059    -0.15999  "
      ]
     },
     "execution_count": 309,
     "metadata": {},
     "output_type": "execute_result"
    }
   ],
   "source": [
    "df_norm.tail()"
   ]
  },
  {
   "cell_type": "code",
   "execution_count": 310,
   "id": "d9c2d85e",
   "metadata": {
    "scrolled": true
   },
   "outputs": [
    {
     "data": {
      "text/plain": [
       "(6999, 10)"
      ]
     },
     "execution_count": 310,
     "metadata": {},
     "output_type": "execute_result"
    }
   ],
   "source": [
    "# veig que es manté el tamany\n",
    "df_norm.shape"
   ]
  },
  {
   "cell_type": "code",
   "execution_count": 311,
   "id": "c62b8aea",
   "metadata": {},
   "outputs": [
    {
     "data": {
      "text/html": [
       "<div>\n",
       "<style scoped>\n",
       "    .dataframe tbody tr th:only-of-type {\n",
       "        vertical-align: middle;\n",
       "    }\n",
       "\n",
       "    .dataframe tbody tr th {\n",
       "        vertical-align: top;\n",
       "    }\n",
       "\n",
       "    .dataframe thead th {\n",
       "        text-align: right;\n",
       "    }\n",
       "</style>\n",
       "<table border=\"1\" class=\"dataframe\">\n",
       "  <thead>\n",
       "    <tr style=\"text-align: right;\">\n",
       "      <th></th>\n",
       "      <th>num_reactions</th>\n",
       "      <th>num_comments</th>\n",
       "      <th>num_shares</th>\n",
       "      <th>num_likes</th>\n",
       "      <th>num_loves</th>\n",
       "      <th>num_wows</th>\n",
       "      <th>num_hahas</th>\n",
       "      <th>num_sads</th>\n",
       "      <th>num_angrys</th>\n",
       "      <th>status_type_link</th>\n",
       "      <th>status_type_photo</th>\n",
       "      <th>status_type_status</th>\n",
       "      <th>status_type_video</th>\n",
       "    </tr>\n",
       "  </thead>\n",
       "  <tbody>\n",
       "    <tr>\n",
       "      <th>0</th>\n",
       "      <td>0.671318</td>\n",
       "      <td>0.320886</td>\n",
       "      <td>1.679382</td>\n",
       "      <td>0.505219</td>\n",
       "      <td>1.976073</td>\n",
       "      <td>0.200243</td>\n",
       "      <td>0.076069</td>\n",
       "      <td>0.518160</td>\n",
       "      <td>-0.15999</td>\n",
       "      <td>0</td>\n",
       "      <td>0</td>\n",
       "      <td>0</td>\n",
       "      <td>1</td>\n",
       "    </tr>\n",
       "    <tr>\n",
       "      <th>1</th>\n",
       "      <td>-0.165606</td>\n",
       "      <td>-0.252669</td>\n",
       "      <td>-0.304903</td>\n",
       "      <td>-0.136392</td>\n",
       "      <td>-0.317962</td>\n",
       "      <td>-0.143599</td>\n",
       "      <td>-0.175780</td>\n",
       "      <td>-0.157059</td>\n",
       "      <td>-0.15999</td>\n",
       "      <td>0</td>\n",
       "      <td>1</td>\n",
       "      <td>0</td>\n",
       "      <td>0</td>\n",
       "    </tr>\n",
       "    <tr>\n",
       "      <th>2</th>\n",
       "      <td>0.004428</td>\n",
       "      <td>0.011704</td>\n",
       "      <td>0.126793</td>\n",
       "      <td>-0.013530</td>\n",
       "      <td>0.205677</td>\n",
       "      <td>-0.028985</td>\n",
       "      <td>0.076069</td>\n",
       "      <td>-0.157059</td>\n",
       "      <td>-0.15999</td>\n",
       "      <td>0</td>\n",
       "      <td>0</td>\n",
       "      <td>0</td>\n",
       "      <td>1</td>\n",
       "    </tr>\n",
       "    <tr>\n",
       "      <th>3</th>\n",
       "      <td>-0.251728</td>\n",
       "      <td>-0.252669</td>\n",
       "      <td>-0.304903</td>\n",
       "      <td>-0.225125</td>\n",
       "      <td>-0.317962</td>\n",
       "      <td>-0.143599</td>\n",
       "      <td>-0.175780</td>\n",
       "      <td>-0.157059</td>\n",
       "      <td>-0.15999</td>\n",
       "      <td>0</td>\n",
       "      <td>1</td>\n",
       "      <td>0</td>\n",
       "      <td>0</td>\n",
       "    </tr>\n",
       "    <tr>\n",
       "      <th>4</th>\n",
       "      <td>-0.026487</td>\n",
       "      <td>-0.252669</td>\n",
       "      <td>-0.304903</td>\n",
       "      <td>-0.013530</td>\n",
       "      <td>-0.093545</td>\n",
       "      <td>-0.143599</td>\n",
       "      <td>-0.175780</td>\n",
       "      <td>-0.157059</td>\n",
       "      <td>-0.15999</td>\n",
       "      <td>0</td>\n",
       "      <td>1</td>\n",
       "      <td>0</td>\n",
       "      <td>0</td>\n",
       "    </tr>\n",
       "  </tbody>\n",
       "</table>\n",
       "</div>"
      ],
      "text/plain": [
       "   num_reactions  num_comments  num_shares  num_likes  num_loves  num_wows  \\\n",
       "0       0.671318      0.320886    1.679382   0.505219   1.976073  0.200243   \n",
       "1      -0.165606     -0.252669   -0.304903  -0.136392  -0.317962 -0.143599   \n",
       "2       0.004428      0.011704    0.126793  -0.013530   0.205677 -0.028985   \n",
       "3      -0.251728     -0.252669   -0.304903  -0.225125  -0.317962 -0.143599   \n",
       "4      -0.026487     -0.252669   -0.304903  -0.013530  -0.093545 -0.143599   \n",
       "\n",
       "   num_hahas  num_sads  num_angrys  status_type_link  status_type_photo  \\\n",
       "0   0.076069  0.518160    -0.15999                 0                  0   \n",
       "1  -0.175780 -0.157059    -0.15999                 0                  1   \n",
       "2   0.076069 -0.157059    -0.15999                 0                  0   \n",
       "3  -0.175780 -0.157059    -0.15999                 0                  1   \n",
       "4  -0.175780 -0.157059    -0.15999                 0                  1   \n",
       "\n",
       "   status_type_status  status_type_video  \n",
       "0                   0                  1  \n",
       "1                   0                  0  \n",
       "2                   0                  1  \n",
       "3                   0                  0  \n",
       "4                   0                  0  "
      ]
     },
     "execution_count": 311,
     "metadata": {},
     "output_type": "execute_result"
    }
   ],
   "source": [
    "# faig les columnes dummies\n",
    "df_norm = pd.get_dummies(df_norm, columns=['status_type'])\n",
    "df_norm.head()"
   ]
  },
  {
   "cell_type": "code",
   "execution_count": 312,
   "id": "47b369b6",
   "metadata": {},
   "outputs": [
    {
     "data": {
      "text/html": [
       "<div>\n",
       "<style scoped>\n",
       "    .dataframe tbody tr th:only-of-type {\n",
       "        vertical-align: middle;\n",
       "    }\n",
       "\n",
       "    .dataframe tbody tr th {\n",
       "        vertical-align: top;\n",
       "    }\n",
       "\n",
       "    .dataframe thead th {\n",
       "        text-align: right;\n",
       "    }\n",
       "</style>\n",
       "<table border=\"1\" class=\"dataframe\">\n",
       "  <thead>\n",
       "    <tr style=\"text-align: right;\">\n",
       "      <th></th>\n",
       "      <th>num_reactions</th>\n",
       "      <th>num_comments</th>\n",
       "      <th>num_shares</th>\n",
       "      <th>num_likes</th>\n",
       "      <th>num_loves</th>\n",
       "      <th>num_wows</th>\n",
       "      <th>num_hahas</th>\n",
       "      <th>num_sads</th>\n",
       "      <th>num_angrys</th>\n",
       "      <th>status_type_link</th>\n",
       "      <th>status_type_photo</th>\n",
       "      <th>status_type_status</th>\n",
       "      <th>status_type_video</th>\n",
       "    </tr>\n",
       "  </thead>\n",
       "  <tbody>\n",
       "    <tr>\n",
       "      <th>7045</th>\n",
       "      <td>-0.300309</td>\n",
       "      <td>-0.252669</td>\n",
       "      <td>-0.304903</td>\n",
       "      <td>-0.275180</td>\n",
       "      <td>-0.317962</td>\n",
       "      <td>-0.143599</td>\n",
       "      <td>-0.175780</td>\n",
       "      <td>-0.157059</td>\n",
       "      <td>-0.15999</td>\n",
       "      <td>0</td>\n",
       "      <td>1</td>\n",
       "      <td>0</td>\n",
       "      <td>0</td>\n",
       "    </tr>\n",
       "    <tr>\n",
       "      <th>7046</th>\n",
       "      <td>-0.461511</td>\n",
       "      <td>-0.252669</td>\n",
       "      <td>-0.304903</td>\n",
       "      <td>-0.445821</td>\n",
       "      <td>-0.293026</td>\n",
       "      <td>-0.143599</td>\n",
       "      <td>0.076069</td>\n",
       "      <td>-0.157059</td>\n",
       "      <td>-0.15999</td>\n",
       "      <td>0</td>\n",
       "      <td>1</td>\n",
       "      <td>0</td>\n",
       "      <td>0</td>\n",
       "    </tr>\n",
       "    <tr>\n",
       "      <th>7047</th>\n",
       "      <td>-0.492427</td>\n",
       "      <td>-0.252669</td>\n",
       "      <td>-0.304903</td>\n",
       "      <td>-0.475399</td>\n",
       "      <td>-0.293026</td>\n",
       "      <td>-0.143599</td>\n",
       "      <td>-0.175780</td>\n",
       "      <td>-0.157059</td>\n",
       "      <td>-0.15999</td>\n",
       "      <td>0</td>\n",
       "      <td>1</td>\n",
       "      <td>0</td>\n",
       "      <td>0</td>\n",
       "    </tr>\n",
       "    <tr>\n",
       "      <th>7048</th>\n",
       "      <td>0.278251</td>\n",
       "      <td>-0.239226</td>\n",
       "      <td>-0.138284</td>\n",
       "      <td>0.316376</td>\n",
       "      <td>-0.268091</td>\n",
       "      <td>-0.143599</td>\n",
       "      <td>-0.175780</td>\n",
       "      <td>-0.157059</td>\n",
       "      <td>-0.15999</td>\n",
       "      <td>0</td>\n",
       "      <td>1</td>\n",
       "      <td>0</td>\n",
       "      <td>0</td>\n",
       "    </tr>\n",
       "    <tr>\n",
       "      <th>7049</th>\n",
       "      <td>-0.459303</td>\n",
       "      <td>-0.252669</td>\n",
       "      <td>-0.304903</td>\n",
       "      <td>-0.438995</td>\n",
       "      <td>-0.317962</td>\n",
       "      <td>-0.143599</td>\n",
       "      <td>-0.175780</td>\n",
       "      <td>-0.157059</td>\n",
       "      <td>-0.15999</td>\n",
       "      <td>0</td>\n",
       "      <td>1</td>\n",
       "      <td>0</td>\n",
       "      <td>0</td>\n",
       "    </tr>\n",
       "  </tbody>\n",
       "</table>\n",
       "</div>"
      ],
      "text/plain": [
       "      num_reactions  num_comments  num_shares  num_likes  num_loves  num_wows  \\\n",
       "7045      -0.300309     -0.252669   -0.304903  -0.275180  -0.317962 -0.143599   \n",
       "7046      -0.461511     -0.252669   -0.304903  -0.445821  -0.293026 -0.143599   \n",
       "7047      -0.492427     -0.252669   -0.304903  -0.475399  -0.293026 -0.143599   \n",
       "7048       0.278251     -0.239226   -0.138284   0.316376  -0.268091 -0.143599   \n",
       "7049      -0.459303     -0.252669   -0.304903  -0.438995  -0.317962 -0.143599   \n",
       "\n",
       "      num_hahas  num_sads  num_angrys  status_type_link  status_type_photo  \\\n",
       "7045  -0.175780 -0.157059    -0.15999                 0                  1   \n",
       "7046   0.076069 -0.157059    -0.15999                 0                  1   \n",
       "7047  -0.175780 -0.157059    -0.15999                 0                  1   \n",
       "7048  -0.175780 -0.157059    -0.15999                 0                  1   \n",
       "7049  -0.175780 -0.157059    -0.15999                 0                  1   \n",
       "\n",
       "      status_type_status  status_type_video  \n",
       "7045                   0                  0  \n",
       "7046                   0                  0  \n",
       "7047                   0                  0  \n",
       "7048                   0                  0  \n",
       "7049                   0                  0  "
      ]
     },
     "execution_count": 312,
     "metadata": {},
     "output_type": "execute_result"
    }
   ],
   "source": [
    "df_norm.tail()"
   ]
  },
  {
   "cell_type": "code",
   "execution_count": 313,
   "id": "20d5331e",
   "metadata": {},
   "outputs": [
    {
     "data": {
      "text/plain": [
       "(6999, 13)"
      ]
     },
     "execution_count": 313,
     "metadata": {},
     "output_type": "execute_result"
    }
   ],
   "source": [
    "# veig que es manté el mateix tamany\n",
    "df_norm.shape"
   ]
  },
  {
   "cell_type": "markdown",
   "id": "b24440e7",
   "metadata": {},
   "source": [
    "# K-Means"
   ]
  },
  {
   "cell_type": "code",
   "execution_count": 314,
   "id": "711a6c0e",
   "metadata": {},
   "outputs": [],
   "source": [
    "# per poder aplicar l'algoritme k-means em de saber cuants clusters em d'emprar\n",
    "# faig la curva de l'elbow\n",
    "kmeans_kwargs = {\"init\":\"k-means++\",\n",
    "                \"n_init\" : 20,\n",
    "                \"max_iter\" : 500,\n",
    "                \"random_state\" : 42,}\n",
    "# una llista dels SEE valors per cada k\n",
    "sse = []\n",
    "for k in range(1,11):\n",
    "    kmeans = KMeans(n_clusters = k, **kmeans_kwargs)\n",
    "    kmeans.fit(df_norm)\n",
    "    sse.append(kmeans.inertia_)"
   ]
  },
  {
   "cell_type": "code",
   "execution_count": 315,
   "id": "324aef81",
   "metadata": {
    "scrolled": true
   },
   "outputs": [
    {
     "data": {
      "image/png": "[encoded data removed]",
      "text/plain": [
       "<Figure size 432x288 with 1 Axes>"
      ]
     },
     "metadata": {},
     "output_type": "display_data"
    }
   ],
   "source": [
    "plt.style.use(\"ggplot\")\n",
    "plt.plot(range(1,11), sse)\n",
    "plt.xticks(range(1,11))\n",
    "plt.xlabel(\"number of clusters\")\n",
    "plt.ylabel(\"SSE\")\n",
    "plt.show()"
   ]
  },
  {
   "cell_type": "code",
   "execution_count": 316,
   "id": "8b88a6c7",
   "metadata": {},
   "outputs": [
    {
     "data": {
      "text/plain": [
       "4"
      ]
     },
     "execution_count": 316,
     "metadata": {},
     "output_type": "execute_result"
    }
   ],
   "source": [
    "# vaig a utilitzar kneed\n",
    "kl = KneeLocator(range(1,11), sse, curve = \"convex\", direction = \"decreasing\")\n",
    "kl.elbow"
   ]
  },
  {
   "cell_type": "markdown",
   "id": "9dea2da4",
   "metadata": {},
   "source": [
    "## aplicando el método means a la base de datos"
   ]
  },
  {
   "cell_type": "code",
   "execution_count": 317,
   "id": "0f5fc48d",
   "metadata": {},
   "outputs": [],
   "source": [
    "# si volgués fer el clusterer amb el format pipeline:\n",
    "clusterer = Pipeline(\n",
    "                     [(\"kmeans\",\n",
    "                       KMeans(n_clusters = 4,\n",
    "                             init = \"k-means++\",\n",
    "                             n_init = 50,\n",
    "                             max_iter = 500,\n",
    "                             verbose = 0,\n",
    "                             tol = 1e-4,\n",
    "                             random_state = 42,\n",
    "                             ),\n",
    "                       ),\n",
    "                      ]\n",
    ")"
   ]
  },
  {
   "cell_type": "code",
   "execution_count": 318,
   "id": "07ea0e37",
   "metadata": {},
   "outputs": [
    {
     "data": {
      "text/plain": [
       "Pipeline(steps=[('kmeans',\n",
       "                 KMeans(max_iter=500, n_clusters=4, n_init=50,\n",
       "                        random_state=42))])"
      ]
     },
     "execution_count": 318,
     "metadata": {},
     "output_type": "execute_result"
    }
   ],
   "source": [
    "clusterer.fit(df_norm)"
   ]
  },
  {
   "cell_type": "code",
   "execution_count": 319,
   "id": "53baf2e9",
   "metadata": {},
   "outputs": [
    {
     "data": {
      "text/plain": [
       "KMeans(max_iter=500, n_clusters=4, n_init=20, random_state=42)"
      ]
     },
     "execution_count": 319,
     "metadata": {},
     "output_type": "execute_result"
    }
   ],
   "source": [
    "# entreno el model\n",
    "kmeans = KMeans(n_clusters = 4,\n",
    "                n_init = 20,\n",
    "                max_iter = 500,\n",
    "                verbose = 0,\n",
    "                tol = 1e-4,\n",
    "                random_state = 42\n",
    "                ) # creamos el modelo\n",
    "kmeans.fit(df_norm)"
   ]
  },
  {
   "cell_type": "code",
   "execution_count": 320,
   "id": "e6d2c516",
   "metadata": {},
   "outputs": [
    {
     "data": {
      "text/plain": [
       "35350.46702382122"
      ]
     },
     "execution_count": 320,
     "metadata": {},
     "output_type": "execute_result"
    }
   ],
   "source": [
    "# el valor sse més baix.\n",
    "kmeans.inertia_"
   ]
  },
  {
   "cell_type": "code",
   "execution_count": 321,
   "id": "3ee8cdec",
   "metadata": {},
   "outputs": [
    {
     "data": {
      "text/plain": [
       "10"
      ]
     },
     "execution_count": 321,
     "metadata": {},
     "output_type": "execute_result"
    }
   ],
   "source": [
    "# el número de vegades que han d'iterar fins convergir\n",
    "kmeans.n_iter_"
   ]
  },
  {
   "cell_type": "code",
   "execution_count": 322,
   "id": "45e2b97c",
   "metadata": {},
   "outputs": [
    {
     "data": {
      "text/plain": [
       "array([[-2.67485568e-01, -1.80108207e-01, -1.94733836e-01,\n",
       "        -2.55349066e-01, -1.86888760e-01, -8.76999489e-02,\n",
       "        -1.08833174e-01, -8.71975772e-02, -1.12735949e-01,\n",
       "         7.97136815e-03,  6.53489507e-01,  4.53879941e-02,\n",
       "         2.93151131e-01],\n",
       "       [ 6.07389157e-01,  2.53684427e+00,  2.48225327e+00,\n",
       "         3.97558052e-01,  2.26954121e+00,  2.52104725e-01,\n",
       "         1.08118731e+00,  1.19032496e+00,  1.50595621e+00,\n",
       "        -6.93889390e-18,  4.75113122e-02, -2.77555756e-17,\n",
       "         9.52488688e-01],\n",
       "       [ 3.39984529e+00, -1.88890435e-01, -2.20626379e-01,\n",
       "         3.52643200e+00, -2.56220589e-01,  9.38592616e-02,\n",
       "        -1.37600654e-01, -1.40897085e-01, -1.52265000e-01,\n",
       "         3.72340426e-02,  5.45212766e-01,  2.12765957e-01,\n",
       "         2.04787234e-01],\n",
       "       [ 2.86546911e+00,  1.67243492e+00,  5.37730766e+00,\n",
       "         1.99916519e+00,  7.11785113e+00,  1.15403004e+01,\n",
       "         7.14266398e+00,  1.84874060e+00,  2.48843751e+00,\n",
       "        -3.46944695e-18,  2.94117647e-02, -6.93889390e-18,\n",
       "         9.70588235e-01]])"
      ]
     },
     "execution_count": 322,
     "metadata": {},
     "output_type": "execute_result"
    }
   ],
   "source": [
    "# aquí tindrem el centre dels 4 clusters formats\n",
    "kmeans.cluster_centers_"
   ]
  },
  {
   "cell_type": "markdown",
   "id": "a71cd28f",
   "metadata": {},
   "source": [
    "## agregando la clasificación al modelo original"
   ]
  },
  {
   "cell_type": "code",
   "execution_count": 323,
   "id": "a8ee3b51",
   "metadata": {},
   "outputs": [
    {
     "data": {
      "text/html": [
       "<div>\n",
       "<style scoped>\n",
       "    .dataframe tbody tr th:only-of-type {\n",
       "        vertical-align: middle;\n",
       "    }\n",
       "\n",
       "    .dataframe tbody tr th {\n",
       "        vertical-align: top;\n",
       "    }\n",
       "\n",
       "    .dataframe thead th {\n",
       "        text-align: right;\n",
       "    }\n",
       "</style>\n",
       "<table border=\"1\" class=\"dataframe\">\n",
       "  <thead>\n",
       "    <tr style=\"text-align: right;\">\n",
       "      <th></th>\n",
       "      <th>num_reactions</th>\n",
       "      <th>num_comments</th>\n",
       "      <th>num_shares</th>\n",
       "      <th>num_likes</th>\n",
       "      <th>num_loves</th>\n",
       "      <th>num_wows</th>\n",
       "      <th>num_hahas</th>\n",
       "      <th>num_sads</th>\n",
       "      <th>num_angrys</th>\n",
       "      <th>status_type_link</th>\n",
       "      <th>status_type_photo</th>\n",
       "      <th>status_type_status</th>\n",
       "      <th>status_type_video</th>\n",
       "      <th>KMeans_Clusters</th>\n",
       "    </tr>\n",
       "  </thead>\n",
       "  <tbody>\n",
       "    <tr>\n",
       "      <th>0</th>\n",
       "      <td>0.671318</td>\n",
       "      <td>0.320886</td>\n",
       "      <td>1.679382</td>\n",
       "      <td>0.505219</td>\n",
       "      <td>1.976073</td>\n",
       "      <td>0.200243</td>\n",
       "      <td>0.076069</td>\n",
       "      <td>0.518160</td>\n",
       "      <td>-0.15999</td>\n",
       "      <td>0</td>\n",
       "      <td>0</td>\n",
       "      <td>0</td>\n",
       "      <td>1</td>\n",
       "      <td>1</td>\n",
       "    </tr>\n",
       "    <tr>\n",
       "      <th>1</th>\n",
       "      <td>-0.165606</td>\n",
       "      <td>-0.252669</td>\n",
       "      <td>-0.304903</td>\n",
       "      <td>-0.136392</td>\n",
       "      <td>-0.317962</td>\n",
       "      <td>-0.143599</td>\n",
       "      <td>-0.175780</td>\n",
       "      <td>-0.157059</td>\n",
       "      <td>-0.15999</td>\n",
       "      <td>0</td>\n",
       "      <td>1</td>\n",
       "      <td>0</td>\n",
       "      <td>0</td>\n",
       "      <td>0</td>\n",
       "    </tr>\n",
       "    <tr>\n",
       "      <th>2</th>\n",
       "      <td>0.004428</td>\n",
       "      <td>0.011704</td>\n",
       "      <td>0.126793</td>\n",
       "      <td>-0.013530</td>\n",
       "      <td>0.205677</td>\n",
       "      <td>-0.028985</td>\n",
       "      <td>0.076069</td>\n",
       "      <td>-0.157059</td>\n",
       "      <td>-0.15999</td>\n",
       "      <td>0</td>\n",
       "      <td>0</td>\n",
       "      <td>0</td>\n",
       "      <td>1</td>\n",
       "      <td>0</td>\n",
       "    </tr>\n",
       "    <tr>\n",
       "      <th>3</th>\n",
       "      <td>-0.251728</td>\n",
       "      <td>-0.252669</td>\n",
       "      <td>-0.304903</td>\n",
       "      <td>-0.225125</td>\n",
       "      <td>-0.317962</td>\n",
       "      <td>-0.143599</td>\n",
       "      <td>-0.175780</td>\n",
       "      <td>-0.157059</td>\n",
       "      <td>-0.15999</td>\n",
       "      <td>0</td>\n",
       "      <td>1</td>\n",
       "      <td>0</td>\n",
       "      <td>0</td>\n",
       "      <td>0</td>\n",
       "    </tr>\n",
       "    <tr>\n",
       "      <th>4</th>\n",
       "      <td>-0.026487</td>\n",
       "      <td>-0.252669</td>\n",
       "      <td>-0.304903</td>\n",
       "      <td>-0.013530</td>\n",
       "      <td>-0.093545</td>\n",
       "      <td>-0.143599</td>\n",
       "      <td>-0.175780</td>\n",
       "      <td>-0.157059</td>\n",
       "      <td>-0.15999</td>\n",
       "      <td>0</td>\n",
       "      <td>1</td>\n",
       "      <td>0</td>\n",
       "      <td>0</td>\n",
       "      <td>0</td>\n",
       "    </tr>\n",
       "  </tbody>\n",
       "</table>\n",
       "</div>"
      ],
      "text/plain": [
       "   num_reactions  num_comments  num_shares  num_likes  num_loves  num_wows  \\\n",
       "0       0.671318      0.320886    1.679382   0.505219   1.976073  0.200243   \n",
       "1      -0.165606     -0.252669   -0.304903  -0.136392  -0.317962 -0.143599   \n",
       "2       0.004428      0.011704    0.126793  -0.013530   0.205677 -0.028985   \n",
       "3      -0.251728     -0.252669   -0.304903  -0.225125  -0.317962 -0.143599   \n",
       "4      -0.026487     -0.252669   -0.304903  -0.013530  -0.093545 -0.143599   \n",
       "\n",
       "   num_hahas  num_sads  num_angrys  status_type_link  status_type_photo  \\\n",
       "0   0.076069  0.518160    -0.15999                 0                  0   \n",
       "1  -0.175780 -0.157059    -0.15999                 0                  1   \n",
       "2   0.076069 -0.157059    -0.15999                 0                  0   \n",
       "3  -0.175780 -0.157059    -0.15999                 0                  1   \n",
       "4  -0.175780 -0.157059    -0.15999                 0                  1   \n",
       "\n",
       "   status_type_status  status_type_video  KMeans_Clusters  \n",
       "0                   0                  1                1  \n",
       "1                   0                  0                0  \n",
       "2                   0                  1                0  \n",
       "3                   0                  0                0  \n",
       "4                   0                  0                0  "
      ]
     },
     "execution_count": 323,
     "metadata": {},
     "output_type": "execute_result"
    }
   ],
   "source": [
    "# els labels corresponen als clusters associats a cada punt\n",
    "kmeans_labels = kmeans.labels_\n",
    "# els afegeixo a la base de dades original\n",
    "df_norm['KMeans_Clusters'] = kmeans.labels_\n",
    "df_norm.head()"
   ]
  },
  {
   "cell_type": "markdown",
   "id": "9f727c2e",
   "metadata": {},
   "source": [
    "## aplicació de PCA al model"
   ]
  },
  {
   "cell_type": "markdown",
   "id": "a5fecb6b",
   "metadata": {},
   "source": [
    "Per poder fer la PCA primer em de saber quants components hem d'emprar, veiem que per explicar el 100% de la variança són necessaris 8 elements, com que 8 elements no els puc representar gràficament triaré 2d."
   ]
  },
  {
   "cell_type": "code",
   "execution_count": 324,
   "id": "4d25df17",
   "metadata": {},
   "outputs": [
    {
     "data": {
      "text/plain": [
       "Text(0, 0.5, 'number of cumulative explained variance')"
      ]
     },
     "execution_count": 324,
     "metadata": {},
     "output_type": "execute_result"
    },
    {
     "data": {
      "image/png": "[encoded data removed]",
      "text/plain": [
       "<Figure size 432x288 with 1 Axes>"
      ]
     },
     "metadata": {},
     "output_type": "display_data"
    }
   ],
   "source": [
    "pca = PCA().fit(df_norm)\n",
    "plt.plot(np.cumsum(pca.explained_variance_ratio_))\n",
    "plt.xlabel('number of components')\n",
    "plt.ylabel('number of cumulative explained variance')"
   ]
  },
  {
   "cell_type": "markdown",
   "id": "03f90127",
   "metadata": {},
   "source": [
    "Un cop feta la gràfica podem observar que la variança explicada estarà entre 0,6 i 0,7"
   ]
  },
  {
   "cell_type": "code",
   "execution_count": 325,
   "id": "9d8063b5",
   "metadata": {},
   "outputs": [
    {
     "data": {
      "text/html": [
       "<div>\n",
       "<style scoped>\n",
       "    .dataframe tbody tr th:only-of-type {\n",
       "        vertical-align: middle;\n",
       "    }\n",
       "\n",
       "    .dataframe tbody tr th {\n",
       "        vertical-align: top;\n",
       "    }\n",
       "\n",
       "    .dataframe thead th {\n",
       "        text-align: right;\n",
       "    }\n",
       "</style>\n",
       "<table border=\"1\" class=\"dataframe\">\n",
       "  <thead>\n",
       "    <tr style=\"text-align: right;\">\n",
       "      <th></th>\n",
       "      <th>Componente_1</th>\n",
       "      <th>Componente_2</th>\n",
       "    </tr>\n",
       "  </thead>\n",
       "  <tbody>\n",
       "    <tr>\n",
       "      <th>0</th>\n",
       "      <td>2.479393</td>\n",
       "      <td>-0.133110</td>\n",
       "    </tr>\n",
       "    <tr>\n",
       "      <th>1</th>\n",
       "      <td>-0.715156</td>\n",
       "      <td>0.094340</td>\n",
       "    </tr>\n",
       "    <tr>\n",
       "      <th>2</th>\n",
       "      <td>0.181308</td>\n",
       "      <td>-0.160935</td>\n",
       "    </tr>\n",
       "    <tr>\n",
       "      <th>3</th>\n",
       "      <td>-0.767367</td>\n",
       "      <td>-0.010601</td>\n",
       "    </tr>\n",
       "    <tr>\n",
       "      <th>4</th>\n",
       "      <td>-0.536005</td>\n",
       "      <td>0.205859</td>\n",
       "    </tr>\n",
       "  </tbody>\n",
       "</table>\n",
       "</div>"
      ],
      "text/plain": [
       "   Componente_1  Componente_2\n",
       "0      2.479393     -0.133110\n",
       "1     -0.715156      0.094340\n",
       "2      0.181308     -0.160935\n",
       "3     -0.767367     -0.010601\n",
       "4     -0.536005      0.205859"
      ]
     },
     "execution_count": 325,
     "metadata": {},
     "output_type": "execute_result"
    }
   ],
   "source": [
    "# faig la disminució de dimensions a 2\n",
    "pca = PCA(n_components = 2)\n",
    "principalComponents = pca.fit_transform(df_norm)\n",
    "principalDf = pd.DataFrame(data = principalComponents, columns = ['Componente_1','Componente_2'])\n",
    "principalDf.head()"
   ]
  },
  {
   "cell_type": "code",
   "execution_count": 326,
   "id": "a545a368",
   "metadata": {},
   "outputs": [
    {
     "data": {
      "text/plain": [
       "array([0.3755706 , 0.18591452])"
      ]
     },
     "execution_count": 326,
     "metadata": {},
     "output_type": "execute_result"
    }
   ],
   "source": [
    "# com podem observar el primer component explica un 37% i el segon un 18%\n",
    "pca.explained_variance_ratio_"
   ]
  },
  {
   "cell_type": "code",
   "execution_count": 327,
   "id": "0d1ff496",
   "metadata": {},
   "outputs": [],
   "source": [
    "# vaig a mirar els indicadors del número de clusters per veure si he d'emprar\n",
    "# els mateixos\n",
    "kmeans_kwargs = {\"init\":\"k-means++\",\n",
    "                \"n_init\" : 20,\n",
    "                \"max_iter\" : 500,\n",
    "                \"random_state\" : 42,}\n",
    "# una llista dels SEE valors per cada k\n",
    "sse = []\n",
    "for k in range(1,11):\n",
    "    kmeans = KMeans(n_clusters = k, **kmeans_kwargs)\n",
    "    kmeans.fit(principalDf)\n",
    "    sse.append(kmeans.inertia_)"
   ]
  },
  {
   "cell_type": "code",
   "execution_count": 328,
   "id": "4d31edd7",
   "metadata": {},
   "outputs": [
    {
     "data": {
      "image/png": "[encoded data removed]",
      "text/plain": [
       "<Figure size 432x288 with 1 Axes>"
      ]
     },
     "metadata": {},
     "output_type": "display_data"
    }
   ],
   "source": [
    "plt.style.use(\"ggplot\")\n",
    "plt.plot(range(1,11), sse)\n",
    "plt.xticks(range(1,11))\n",
    "plt.xlabel(\"number of clusters\")\n",
    "plt.ylabel(\"SSE\")\n",
    "plt.show()"
   ]
  },
  {
   "cell_type": "markdown",
   "id": "3a9b7141",
   "metadata": {},
   "source": [
    "Podem veure com la forma és més pronunciada que sense aplicar CAP"
   ]
  },
  {
   "cell_type": "code",
   "execution_count": 329,
   "id": "eb7f27b0",
   "metadata": {},
   "outputs": [
    {
     "data": {
      "text/plain": [
       "4"
      ]
     },
     "execution_count": 329,
     "metadata": {},
     "output_type": "execute_result"
    }
   ],
   "source": [
    "# vaig a utilitzar kneed\n",
    "kl = KneeLocator(range(1,11), sse, curve = \"convex\", direction = \"decreasing\")\n",
    "kl.elbow"
   ]
  },
  {
   "cell_type": "code",
   "execution_count": 330,
   "id": "8037b109",
   "metadata": {},
   "outputs": [],
   "source": [
    "# si faig el coeficient de silhouette\n",
    "silhouette_coefficients = []\n",
    "for k in range (2,11):\n",
    "    kmeans = KMeans(n_clusters = k, **kmeans_kwargs)\n",
    "    kmeans.fit(principalDf)\n",
    "    score = silhouette_score(principalDf, kmeans.labels_)\n",
    "    silhouette_coefficients.append(score)"
   ]
  },
  {
   "cell_type": "code",
   "execution_count": 331,
   "id": "40a13511",
   "metadata": {
    "scrolled": false
   },
   "outputs": [
    {
     "data": {
      "image/png": "[encoded data removed]",
      "text/plain": [
       "<Figure size 432x288 with 1 Axes>"
      ]
     },
     "metadata": {},
     "output_type": "display_data"
    }
   ],
   "source": [
    "## plt.style.use(\"fivethirtyeight\")\n",
    "plt.plot(range(2,11), silhouette_coefficients)\n",
    "plt.xticks(range(2,11))\n",
    "plt.xlabel(\"Number of clusters\")\n",
    "plt.ylabel(\"Silhouette coefficient\")\n",
    "plt.show()"
   ]
  },
  {
   "cell_type": "code",
   "execution_count": 332,
   "id": "83fe93e1",
   "metadata": {},
   "outputs": [
    {
     "data": {
      "text/plain": [
       "KMeans(max_iter=500, n_clusters=3, n_init=20, random_state=42)"
      ]
     },
     "execution_count": 332,
     "metadata": {},
     "output_type": "execute_result"
    }
   ],
   "source": [
    "# vaig a fer cas al coeficient de silhouette per número de clústers que diu que \n",
    "# 3 és l'òptim\n",
    "kmeans_cap = KMeans(n_clusters = 3,\n",
    "                n_init = 20,\n",
    "                max_iter = 500,\n",
    "                verbose = 0,\n",
    "                tol = 1e-4,\n",
    "                random_state = 42\n",
    "                ) # creamos el modelo\n",
    "# ara vull entrenar el mateix model amb les dimensions reduïdes, teòricament\n",
    "# hauria de millorar el model, trio principalDf perque té els dos components\n",
    "# sense els clústers assignats inicialment:\n",
    "kmeans_cap.fit(principalDf)"
   ]
  },
  {
   "cell_type": "code",
   "execution_count": 333,
   "id": "b527048d",
   "metadata": {},
   "outputs": [
    {
     "data": {
      "text/html": [
       "<div>\n",
       "<style scoped>\n",
       "    .dataframe tbody tr th:only-of-type {\n",
       "        vertical-align: middle;\n",
       "    }\n",
       "\n",
       "    .dataframe tbody tr th {\n",
       "        vertical-align: top;\n",
       "    }\n",
       "\n",
       "    .dataframe thead th {\n",
       "        text-align: right;\n",
       "    }\n",
       "</style>\n",
       "<table border=\"1\" class=\"dataframe\">\n",
       "  <thead>\n",
       "    <tr style=\"text-align: right;\">\n",
       "      <th></th>\n",
       "      <th>Componente_1</th>\n",
       "      <th>Componente_2</th>\n",
       "      <th>KMeans_Clusters_cap</th>\n",
       "    </tr>\n",
       "  </thead>\n",
       "  <tbody>\n",
       "    <tr>\n",
       "      <th>0</th>\n",
       "      <td>2.479393</td>\n",
       "      <td>-0.133110</td>\n",
       "      <td>0</td>\n",
       "    </tr>\n",
       "    <tr>\n",
       "      <th>1</th>\n",
       "      <td>-0.715156</td>\n",
       "      <td>0.094340</td>\n",
       "      <td>0</td>\n",
       "    </tr>\n",
       "    <tr>\n",
       "      <th>2</th>\n",
       "      <td>0.181308</td>\n",
       "      <td>-0.160935</td>\n",
       "      <td>0</td>\n",
       "    </tr>\n",
       "    <tr>\n",
       "      <th>3</th>\n",
       "      <td>-0.767367</td>\n",
       "      <td>-0.010601</td>\n",
       "      <td>0</td>\n",
       "    </tr>\n",
       "    <tr>\n",
       "      <th>4</th>\n",
       "      <td>-0.536005</td>\n",
       "      <td>0.205859</td>\n",
       "      <td>0</td>\n",
       "    </tr>\n",
       "  </tbody>\n",
       "</table>\n",
       "</div>"
      ],
      "text/plain": [
       "   Componente_1  Componente_2  KMeans_Clusters_cap\n",
       "0      2.479393     -0.133110                    0\n",
       "1     -0.715156      0.094340                    0\n",
       "2      0.181308     -0.160935                    0\n",
       "3     -0.767367     -0.010601                    0\n",
       "4     -0.536005      0.205859                    0"
      ]
     },
     "execution_count": 333,
     "metadata": {},
     "output_type": "execute_result"
    }
   ],
   "source": [
    "# els labels corresponen als clusters associats a cada punt\n",
    "kmeans_labels_cap = kmeans_cap.labels_\n",
    "# els afegeixo a la base de dades de CAP\n",
    "principalDf['KMeans_Clusters_cap'] = kmeans_cap.labels_\n",
    "# els afegeixo a la base de dades original\n",
    "df_norm['KMeans_Clusters_cap'] = kmeans_labels_cap\n",
    "principalDf.head()"
   ]
  },
  {
   "cell_type": "code",
   "execution_count": 344,
   "id": "01599c6a",
   "metadata": {},
   "outputs": [
    {
     "data": {
      "text/plain": [
       "array([[-0.44405815, -0.19795352],\n",
       "       [ 6.86488031, -1.82854935],\n",
       "       [ 2.06795569,  4.77048546]])"
      ]
     },
     "execution_count": 344,
     "metadata": {},
     "output_type": "execute_result"
    }
   ],
   "source": [
    "# aquí tindrem els 3 clústers\n",
    "kmeans_cap.cluster_centers_"
   ]
  },
  {
   "cell_type": "code",
   "execution_count": 334,
   "id": "96fc0cb9",
   "metadata": {
    "scrolled": true
   },
   "outputs": [
    {
     "name": "stderr",
     "output_type": "stream",
     "text": [
      "C:\\Users\\imber\\AppData\\Local\\Temp\\ipykernel_10020\\1734922568.py:9: MatplotlibDeprecationWarning: Auto-removal of grids by pcolor() and pcolormesh() is deprecated since 3.5 and will be removed two minor releases later; please call grid(False) first.\n",
      "  plt.colorbar();\n"
     ]
    },
    {
     "data": {
      "image/png": "[encoded data removed]",
      "text/plain": [
       "<Figure size 432x288 with 2 Axes>"
      ]
     },
     "metadata": {},
     "output_type": "display_data"
    }
   ],
   "source": [
    "# ho representen gràficament\n",
    "plt.scatter(pca_nombres_data['Componente_1'], pca_nombres_data['Componente_2'],\n",
    "           c = principalDf['KMeans_Clusters_cap'], \n",
    "           edgecolor = 'none',\n",
    "           alpha = 0.3,\n",
    "           cmap = plt.cm.get_cmap('brg', 10))\n",
    "plt.xlabel('component 1')\n",
    "plt.ylabel('component 2')\n",
    "plt.colorbar();"
   ]
  },
  {
   "cell_type": "markdown",
   "id": "9fad4d01",
   "metadata": {},
   "source": [
    "## Exercici 2: Classifica els diferents registres utilitzant l'algoritme de clustering jeràrquic."
   ]
  },
  {
   "cell_type": "code",
   "execution_count": 335,
   "id": "05497298",
   "metadata": {},
   "outputs": [
    {
     "data": {
      "text/plain": [
       "array([[ 0.32088561,  1.67938232,  0.50521896, ...,  0.        ,\n",
       "         1.        ,  1.        ],\n",
       "       [-0.25266868, -0.30490291, -0.13639164, ...,  0.        ,\n",
       "         0.        ,  0.        ],\n",
       "       [ 0.011704  ,  0.12679273, -0.01353004, ...,  0.        ,\n",
       "         1.        ,  0.        ],\n",
       "       ...,\n",
       "       [-0.25266868, -0.30490291, -0.47539865, ...,  0.        ,\n",
       "         0.        ,  0.        ],\n",
       "       [-0.239226  , -0.13828354,  0.31637612, ...,  0.        ,\n",
       "         0.        ,  0.        ],\n",
       "       [-0.25266868, -0.30490291, -0.43899522, ...,  0.        ,\n",
       "         0.        ,  0.        ]])"
      ]
     },
     "execution_count": 335,
     "metadata": {},
     "output_type": "execute_result"
    }
   ],
   "source": [
    "# extrec els valors\n",
    "X = df_norm.iloc[:, [1,2,3,4,5,6,7,8,9,10,11,12,13]].values\n",
    "X"
   ]
  },
  {
   "cell_type": "code",
   "execution_count": 336,
   "id": "2697a575",
   "metadata": {},
   "outputs": [
    {
     "data": {
      "image/png": "[encoded data removed]",
      "text/plain": [
       "<Figure size 432x288 with 1 Axes>"
      ]
     },
     "metadata": {},
     "output_type": "display_data"
    }
   ],
   "source": [
    "# faig el dendrograma\n",
    "dendrogram = sch.dendrogram(sch.linkage(X, method = 'ward'))"
   ]
  },
  {
   "cell_type": "markdown",
   "id": "66d25f4a",
   "metadata": {},
   "source": [
    "Si observem el dendrograma la majoria despai on no es produeix cap intersecció és el final, per tant jo posaria només dos clústers"
   ]
  },
  {
   "cell_type": "code",
   "execution_count": 337,
   "id": "a723b747",
   "metadata": {},
   "outputs": [
    {
     "data": {
      "text/plain": [
       "array([1, 0, 0, ..., 0, 0, 0], dtype=int64)"
      ]
     },
     "execution_count": 337,
     "metadata": {},
     "output_type": "execute_result"
    }
   ],
   "source": [
    "clusteringjerarquic = AgglomerativeClustering(n_clusters = 2, \n",
    "                                              affinity = 'euclidean',\n",
    "                                              linkage = 'ward')\n",
    "clusteringjerarquic.fit(X)\n",
    "jerarquic_labels = clusteringjerarquic.labels_\n",
    "jerarquic_labels"
   ]
  },
  {
   "cell_type": "code",
   "execution_count": 338,
   "id": "debe5906",
   "metadata": {},
   "outputs": [],
   "source": [
    "# afegeixo els clústers assignats a cada registre a la base de dades\n",
    "df_norm['Jerarquic_clusters'] = jerarquic_labels"
   ]
  },
  {
   "cell_type": "code",
   "execution_count": 339,
   "id": "af54c006",
   "metadata": {},
   "outputs": [
    {
     "data": {
      "text/plain": [
       "<matplotlib.collections.PathCollection at 0x1b6923ef8e0>"
      ]
     },
     "execution_count": 339,
     "metadata": {},
     "output_type": "execute_result"
    },
    {
     "data": {
      "image/png": "[encoded data removed]",
      "text/plain": [
       "<Figure size 432x288 with 1 Axes>"
      ]
     },
     "metadata": {},
     "output_type": "display_data"
    }
   ],
   "source": [
    "plt.scatter(X[jerarquic_labels==0, 0], X[jerarquic_labels==0, 1], s=50, marker='o', color='red')\n",
    "plt.scatter(X[jerarquic_labels==1, 0], X[jerarquic_labels==1, 1], s=50, marker='o', color='blue')\n"
   ]
  },
  {
   "cell_type": "markdown",
   "id": "0cd84c5c",
   "metadata": {},
   "source": [
    "## Exercici 3: Calcula el rendiment del clustering mitjançant un paràmetre com pot ser silhouette."
   ]
  },
  {
   "cell_type": "markdown",
   "id": "241266c0",
   "metadata": {},
   "source": [
    "## classificació K-Means"
   ]
  },
  {
   "cell_type": "code",
   "execution_count": 340,
   "id": "226a7d02",
   "metadata": {},
   "outputs": [
    {
     "name": "stdout",
     "output_type": "stream",
     "text": [
      "kmeans: 0.72\n"
     ]
    }
   ],
   "source": [
    "kmeans_silhouette = silhouette_score(df_norm, kmeans_labels).round(2)\n",
    "print('kmeans:', kmeans_silhouette)"
   ]
  },
  {
   "cell_type": "markdown",
   "id": "5de16317",
   "metadata": {},
   "source": [
    "## classificació K-Means amb cap"
   ]
  },
  {
   "cell_type": "code",
   "execution_count": 341,
   "id": "7343a55e",
   "metadata": {},
   "outputs": [
    {
     "name": "stdout",
     "output_type": "stream",
     "text": [
      "kmeans amb cap: 0.82\n"
     ]
    }
   ],
   "source": [
    "kmeans_cap_silhouette = silhouette_score(principalDf, kmeans_labels_cap).round(2)\n",
    "print('kmeans amb cap:', kmeans_cap_silhouette)"
   ]
  },
  {
   "cell_type": "markdown",
   "id": "1783de36",
   "metadata": {},
   "source": [
    "## classificació clústering jeràrquic"
   ]
  },
  {
   "cell_type": "code",
   "execution_count": 342,
   "id": "8fa8418a",
   "metadata": {},
   "outputs": [
    {
     "name": "stdout",
     "output_type": "stream",
     "text": [
      "clustering jerarquic 0.74\n"
     ]
    }
   ],
   "source": [
    "jerarquic_silhouette = silhouette_score(X, jerarquic_labels).round(2)\n",
    "print('clustering jerarquic', jerarquic_silhouette)"
   ]
  },
  {
   "cell_type": "markdown",
   "id": "0396da64",
   "metadata": {},
   "source": [
    "## database final amb els clústers dels dos models"
   ]
  },
  {
   "cell_type": "code",
   "execution_count": 343,
   "id": "264a55e9",
   "metadata": {},
   "outputs": [
    {
     "data": {
      "text/html": [
       "<div>\n",
       "<style scoped>\n",
       "    .dataframe tbody tr th:only-of-type {\n",
       "        vertical-align: middle;\n",
       "    }\n",
       "\n",
       "    .dataframe tbody tr th {\n",
       "        vertical-align: top;\n",
       "    }\n",
       "\n",
       "    .dataframe thead th {\n",
       "        text-align: right;\n",
       "    }\n",
       "</style>\n",
       "<table border=\"1\" class=\"dataframe\">\n",
       "  <thead>\n",
       "    <tr style=\"text-align: right;\">\n",
       "      <th></th>\n",
       "      <th>KMeans_Clusters</th>\n",
       "      <th>KMeans_Clusters_cap</th>\n",
       "      <th>Jerarquic_clusters</th>\n",
       "      <th>num_reactions</th>\n",
       "      <th>num_comments</th>\n",
       "      <th>num_shares</th>\n",
       "      <th>num_likes</th>\n",
       "      <th>num_loves</th>\n",
       "      <th>num_vows</th>\n",
       "      <th>num_hahas</th>\n",
       "      <th>num_sads</th>\n",
       "      <th>num_angrys</th>\n",
       "      <th>status_type_link</th>\n",
       "      <th>status_type_photo</th>\n",
       "      <th>status_type_video</th>\n",
       "    </tr>\n",
       "  </thead>\n",
       "  <tbody>\n",
       "    <tr>\n",
       "      <th>0</th>\n",
       "      <td>1</td>\n",
       "      <td>0</td>\n",
       "      <td>1</td>\n",
       "      <td>0.671318</td>\n",
       "      <td>0.320886</td>\n",
       "      <td>1.679382</td>\n",
       "      <td>0.505219</td>\n",
       "      <td>1.976073</td>\n",
       "      <td>NaN</td>\n",
       "      <td>0.076069</td>\n",
       "      <td>0.518160</td>\n",
       "      <td>-0.159990</td>\n",
       "      <td>0</td>\n",
       "      <td>0</td>\n",
       "      <td>1</td>\n",
       "    </tr>\n",
       "    <tr>\n",
       "      <th>1</th>\n",
       "      <td>0</td>\n",
       "      <td>0</td>\n",
       "      <td>0</td>\n",
       "      <td>-0.165606</td>\n",
       "      <td>-0.252669</td>\n",
       "      <td>-0.304903</td>\n",
       "      <td>-0.136392</td>\n",
       "      <td>-0.317962</td>\n",
       "      <td>NaN</td>\n",
       "      <td>-0.175780</td>\n",
       "      <td>-0.157059</td>\n",
       "      <td>-0.159990</td>\n",
       "      <td>0</td>\n",
       "      <td>1</td>\n",
       "      <td>0</td>\n",
       "    </tr>\n",
       "    <tr>\n",
       "      <th>2</th>\n",
       "      <td>0</td>\n",
       "      <td>0</td>\n",
       "      <td>0</td>\n",
       "      <td>0.004428</td>\n",
       "      <td>0.011704</td>\n",
       "      <td>0.126793</td>\n",
       "      <td>-0.013530</td>\n",
       "      <td>0.205677</td>\n",
       "      <td>NaN</td>\n",
       "      <td>0.076069</td>\n",
       "      <td>-0.157059</td>\n",
       "      <td>-0.159990</td>\n",
       "      <td>0</td>\n",
       "      <td>0</td>\n",
       "      <td>1</td>\n",
       "    </tr>\n",
       "    <tr>\n",
       "      <th>3</th>\n",
       "      <td>0</td>\n",
       "      <td>0</td>\n",
       "      <td>0</td>\n",
       "      <td>-0.251728</td>\n",
       "      <td>-0.252669</td>\n",
       "      <td>-0.304903</td>\n",
       "      <td>-0.225125</td>\n",
       "      <td>-0.317962</td>\n",
       "      <td>NaN</td>\n",
       "      <td>-0.175780</td>\n",
       "      <td>-0.157059</td>\n",
       "      <td>-0.159990</td>\n",
       "      <td>0</td>\n",
       "      <td>1</td>\n",
       "      <td>0</td>\n",
       "    </tr>\n",
       "    <tr>\n",
       "      <th>4</th>\n",
       "      <td>0</td>\n",
       "      <td>0</td>\n",
       "      <td>0</td>\n",
       "      <td>-0.026487</td>\n",
       "      <td>-0.252669</td>\n",
       "      <td>-0.304903</td>\n",
       "      <td>-0.013530</td>\n",
       "      <td>-0.093545</td>\n",
       "      <td>NaN</td>\n",
       "      <td>-0.175780</td>\n",
       "      <td>-0.157059</td>\n",
       "      <td>-0.159990</td>\n",
       "      <td>0</td>\n",
       "      <td>1</td>\n",
       "      <td>0</td>\n",
       "    </tr>\n",
       "    <tr>\n",
       "      <th>5</th>\n",
       "      <td>0</td>\n",
       "      <td>0</td>\n",
       "      <td>0</td>\n",
       "      <td>-0.017654</td>\n",
       "      <td>-0.245947</td>\n",
       "      <td>-0.304903</td>\n",
       "      <td>0.002396</td>\n",
       "      <td>-0.193286</td>\n",
       "      <td>NaN</td>\n",
       "      <td>-0.175780</td>\n",
       "      <td>-0.157059</td>\n",
       "      <td>-0.159990</td>\n",
       "      <td>0</td>\n",
       "      <td>1</td>\n",
       "      <td>0</td>\n",
       "    </tr>\n",
       "    <tr>\n",
       "      <th>6</th>\n",
       "      <td>1</td>\n",
       "      <td>0</td>\n",
       "      <td>0</td>\n",
       "      <td>0.613904</td>\n",
       "      <td>0.435148</td>\n",
       "      <td>0.240397</td>\n",
       "      <td>0.473366</td>\n",
       "      <td>1.427500</td>\n",
       "      <td>NaN</td>\n",
       "      <td>0.327919</td>\n",
       "      <td>-0.157059</td>\n",
       "      <td>4.197101</td>\n",
       "      <td>0</td>\n",
       "      <td>0</td>\n",
       "      <td>1</td>\n",
       "    </tr>\n",
       "    <tr>\n",
       "      <th>7</th>\n",
       "      <td>0</td>\n",
       "      <td>0</td>\n",
       "      <td>0</td>\n",
       "      <td>0.154589</td>\n",
       "      <td>0.254792</td>\n",
       "      <td>0.096498</td>\n",
       "      <td>0.113882</td>\n",
       "      <td>0.479964</td>\n",
       "      <td>NaN</td>\n",
       "      <td>0.076069</td>\n",
       "      <td>-0.157059</td>\n",
       "      <td>1.292373</td>\n",
       "      <td>0</td>\n",
       "      <td>0</td>\n",
       "      <td>1</td>\n",
       "    </tr>\n",
       "    <tr>\n",
       "      <th>8</th>\n",
       "      <td>0</td>\n",
       "      <td>0</td>\n",
       "      <td>0</td>\n",
       "      <td>-0.048569</td>\n",
       "      <td>-0.251548</td>\n",
       "      <td>-0.304903</td>\n",
       "      <td>-0.027181</td>\n",
       "      <td>-0.193286</td>\n",
       "      <td>NaN</td>\n",
       "      <td>-0.175780</td>\n",
       "      <td>-0.157059</td>\n",
       "      <td>-0.159990</td>\n",
       "      <td>0</td>\n",
       "      <td>1</td>\n",
       "      <td>0</td>\n",
       "    </tr>\n",
       "    <tr>\n",
       "      <th>9</th>\n",
       "      <td>0</td>\n",
       "      <td>0</td>\n",
       "      <td>0</td>\n",
       "      <td>-0.121441</td>\n",
       "      <td>-0.242587</td>\n",
       "      <td>-0.297329</td>\n",
       "      <td>-0.097713</td>\n",
       "      <td>-0.243156</td>\n",
       "      <td>NaN</td>\n",
       "      <td>-0.175780</td>\n",
       "      <td>-0.157059</td>\n",
       "      <td>-0.159990</td>\n",
       "      <td>0</td>\n",
       "      <td>1</td>\n",
       "      <td>0</td>\n",
       "    </tr>\n",
       "  </tbody>\n",
       "</table>\n",
       "</div>"
      ],
      "text/plain": [
       "   KMeans_Clusters  KMeans_Clusters_cap  Jerarquic_clusters  num_reactions  \\\n",
       "0                1                    0                   1       0.671318   \n",
       "1                0                    0                   0      -0.165606   \n",
       "2                0                    0                   0       0.004428   \n",
       "3                0                    0                   0      -0.251728   \n",
       "4                0                    0                   0      -0.026487   \n",
       "5                0                    0                   0      -0.017654   \n",
       "6                1                    0                   0       0.613904   \n",
       "7                0                    0                   0       0.154589   \n",
       "8                0                    0                   0      -0.048569   \n",
       "9                0                    0                   0      -0.121441   \n",
       "\n",
       "   num_comments  num_shares  num_likes  num_loves  num_vows  num_hahas  \\\n",
       "0      0.320886    1.679382   0.505219   1.976073       NaN   0.076069   \n",
       "1     -0.252669   -0.304903  -0.136392  -0.317962       NaN  -0.175780   \n",
       "2      0.011704    0.126793  -0.013530   0.205677       NaN   0.076069   \n",
       "3     -0.252669   -0.304903  -0.225125  -0.317962       NaN  -0.175780   \n",
       "4     -0.252669   -0.304903  -0.013530  -0.093545       NaN  -0.175780   \n",
       "5     -0.245947   -0.304903   0.002396  -0.193286       NaN  -0.175780   \n",
       "6      0.435148    0.240397   0.473366   1.427500       NaN   0.327919   \n",
       "7      0.254792    0.096498   0.113882   0.479964       NaN   0.076069   \n",
       "8     -0.251548   -0.304903  -0.027181  -0.193286       NaN  -0.175780   \n",
       "9     -0.242587   -0.297329  -0.097713  -0.243156       NaN  -0.175780   \n",
       "\n",
       "   num_sads  num_angrys  status_type_link  status_type_photo  \\\n",
       "0  0.518160   -0.159990                 0                  0   \n",
       "1 -0.157059   -0.159990                 0                  1   \n",
       "2 -0.157059   -0.159990                 0                  0   \n",
       "3 -0.157059   -0.159990                 0                  1   \n",
       "4 -0.157059   -0.159990                 0                  1   \n",
       "5 -0.157059   -0.159990                 0                  1   \n",
       "6 -0.157059    4.197101                 0                  0   \n",
       "7 -0.157059    1.292373                 0                  0   \n",
       "8 -0.157059   -0.159990                 0                  1   \n",
       "9 -0.157059   -0.159990                 0                  1   \n",
       "\n",
       "   status_type_video  \n",
       "0                  1  \n",
       "1                  0  \n",
       "2                  1  \n",
       "3                  0  \n",
       "4                  0  \n",
       "5                  0  \n",
       "6                  1  \n",
       "7                  1  \n",
       "8                  0  \n",
       "9                  0  "
      ]
     },
     "execution_count": 343,
     "metadata": {},
     "output_type": "execute_result"
    }
   ],
   "source": [
    "# database inicial amb l'assignació dels clusters dels 3 models.\n",
    "df_norm = df_norm.reindex(columns = ['KMeans_Clusters',\n",
    "                         'KMeans_Clusters_cap','Jerarquic_clusters', 'num_reactions', 'num_comments','num_shares','num_likes',\n",
    "                         'num_loves','num_vows','num_hahas','num_sads','num_angrys','status_type_link','status_type_photo',\n",
    "                         'status_type_video'])\n",
    "df_norm.head(10)"
   ]
  }
 ],
 "metadata": {
  "kernelspec": {
   "display_name": "Python 3 (ipykernel)",
   "language": "python",
   "name": "python3"
  },
  "language_info": {
   "codemirror_mode": {
    "name": "ipython",
    "version": 3
   },
   "file_extension": ".py",
   "mimetype": "text/x-python",
   "name": "python",
   "nbconvert_exporter": "python",
   "pygments_lexer": "ipython3",
   "version": "3.9.12"
  }
 },
 "nbformat": 4,
 "nbformat_minor": 5
}
